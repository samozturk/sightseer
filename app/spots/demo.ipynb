{
 "cells": [
  {
   "cell_type": "markdown",
   "metadata": {},
   "source": [
    "# Testing HuggingFace Connection with a Simple Call"
   ]
  },
  {
   "cell_type": "code",
   "execution_count": 1,
   "metadata": {},
   "outputs": [
    {
     "name": "stderr",
     "output_type": "stream",
     "text": [
      "/home/sam/Documents/Codez/ss/.venv/lib/python3.12/site-packages/tqdm/auto.py:21: TqdmWarning: IProgress not found. Please update jupyter and ipywidgets. See https://ipywidgets.readthedocs.io/en/stable/user_install.html\n",
      "  from .autonotebook import tqdm as notebook_tqdm\n"
     ]
    },
    {
     "name": "stdout",
     "output_type": "stream",
     "text": [
      "ChatCompletionOutputMessage(role='assistant', content='The capital of France is Paris.', tool_calls=[])\n"
     ]
    }
   ],
   "source": [
    "# HuggingFace Test\n",
    "\n",
    "from huggingface_hub import InferenceClient\n",
    "import os\n",
    "\n",
    "HUGGINFACEHUB_API_TOKEN = os.environ[\"HUGGINGFACEHUB_API_TOKEN_2\"]\n",
    "\n",
    "client = InferenceClient(\n",
    "    provider=\"together\",\n",
    "    api_key=HUGGINFACEHUB_API_TOKEN,\n",
    ")\n",
    "\n",
    "messages = [\n",
    "\t{\n",
    "\t\t\"role\": \"user\",\n",
    "\t\t\"content\": \"What is the capital of France?\"\n",
    "\t}\n",
    "]\n",
    "\n",
    "completion = client.chat.completions.create(\n",
    "    model=\"meta-llama/Llama-3.2-3B-Instruct\", \n",
    "\tmessages=messages, \n",
    "\tmax_tokens=500,\n",
    ")\n",
    "\n",
    "print(completion.choices[0].message)"
   ]
  },
  {
   "cell_type": "code",
   "execution_count": 2,
   "metadata": {},
   "outputs": [
    {
     "name": "stdout",
     "output_type": "stream",
     "text": [
      "ChatCompletionOutputMessage(role='assistant', content='The capital of France is Paris.', tool_calls=[])\n"
     ]
    }
   ],
   "source": [
    "print(completion.choices[0].message)"
   ]
  },
  {
   "cell_type": "markdown",
   "metadata": {},
   "source": [
    "## HugginFace Endpoints + Langchain"
   ]
  },
  {
   "cell_type": "code",
   "execution_count": 1,
   "metadata": {},
   "outputs": [
    {
     "name": "stderr",
     "output_type": "stream",
     "text": [
      "/home/sam/Documents/Codez/ss/.venv/lib/python3.12/site-packages/tqdm/auto.py:21: TqdmWarning: IProgress not found. Please update jupyter and ipywidgets. See https://ipywidgets.readthedocs.io/en/stable/user_install.html\n",
      "  from .autonotebook import tqdm as notebook_tqdm\n",
      "/home/sam/Documents/Codez/ss/.venv/lib/python3.12/site-packages/huggingface_hub/utils/_deprecation.py:131: FutureWarning: 'post' (from 'huggingface_hub.inference._client') is deprecated and will be removed from version '0.31.0'. Making direct POST requests to the inference server is not supported anymore. Please use task methods instead (e.g. `InferenceClient.chat_completion`). If your use case is not supported, please open an issue in https://github.com/huggingface/huggingface_hub.\n",
      "  warnings.warn(warning_message, FutureWarning)\n"
     ]
    },
    {
     "name": "stdout",
     "output_type": "stream",
     "text": [
      "{'city': 'Istanbul', 'user_taste': 'You seem to prefer cities with a rich history and cultural heritage, often opting for places that are a bit off the beaten path. You tend to enjoy cities with a unique blend of traditional and modern elements, such as the charming canals of Utrecht or the vibrant streets of Barcelona.', 'recommendations': [{'name': 'Karaköy Güllüoğlu', 'description': 'A historic Turkish delight shop with stunning views of the Bosphorus', 'address': 'Karaköy, Hüseyinağa Mah., Rıhtım Cd. No: 1, 34425 Beyoğlu/İstanbul', 'category': 'shop'}, {'name': 'Museum of Turkish and Islamic Arts', 'description': 'A world-class museum showcasing an extensive collection of Turkish and Islamic artifacts', 'address': 'Atmeydanı Cd. No: 12, 34122 Fatih/İstanbul', 'category': 'museum'}, {'name': 'Fuego Cafe & Restaurant', 'description': 'A cozy cafe with a warm atmosphere, serving delicious Turkish coffee and pastries', 'address': 'Cihangir, Sıraselviler Cd. No: 33, 34433 Beyoğlu/İstanbul', 'category': 'cafe'}, {'name': 'Pera Palace Hotel', 'description': 'A historic hotel with stunning views of the Golden Horn, offering a luxurious atmosphere and excellent service', 'address': 'Mesrutiyet Cd. No: 52, 34430 Beyoğlu/İstanbul', 'category': 'hotel'}, {'name': 'Kadıköy Fish Market', 'description': 'A bustling fish market with a wide variety of fresh seafood, offering a unique glimpse into local life', 'address': 'Kadıköy, Moda Cd. No: 14, 34710 Kadıköy/İstanbul', 'category': 'market'}, {'name': \"Princes' Islands\", 'description': 'A car-free archipelago with stunning beaches, historic mansions, and a relaxed atmosphere', 'address': 'Adalar, İstanbul', 'category': 'outdoor area'}, {'name': 'Bomontiada', 'description': 'A historic brewery turned cultural complex, offering a unique blend of art, music, and entertainment', 'address': 'Bomonti, Silahşör Cd. No: 42, 34349 Şişli/İstanbul', 'category': 'brewery'}, {'name': 'Orhan Kemal Museum', 'description': 'A small museum dedicated to the life and works of the famous Turkish author Orhan Kemal', 'address': 'Cihangir, Akarsu Cd. No: 30, 34433 Beyoğlu/İstanbul', 'category': 'museum'}, {'name': 'Beşiktaş Çarşı', 'description': 'A lively shopping street with a mix of high-end boutiques, vintage shops, and street food vendors', 'address': 'Beşiktaş, Çarşı Cd. No: 1, 34349 Beşiktaş/İstanbul', 'category': 'shopping street'}, {'name': 'Yıldız Park', 'description': 'A beautiful park with stunning views of the Bosphorus, offering a peaceful escape from the city', 'address': 'Yıldız, Yıldız Cd. No: 1, 34349 Beşiktaş/İstanbul', 'category': 'park'}]}\n",
      "input_variables=['city', 'preferences'] input_types={} partial_variables={} messages=[SystemMessagePromptTemplate(prompt=PromptTemplate(input_variables=[], input_types={}, partial_variables={}, template='You are a helpful local travel guide that always responds in valid JSON format.\\n            Help a customer to find the next bars, cafes, museums, coffee shops, shops, landmarks, remarkable or historical districts, local neigbourhoods, Breweries/Distilleries/Wineries, Local Markets, outdoor areas like parks and gardens, local events etc in their next travel based on their preferences. \\n            Avoid popular spots and tourist traps; prefer hidden gems like a local guide would do and suggest at least 10 spots.\\n            Your response MUST be in valid JSON format. The JSON should be a single object with the following structure:\\n\\n            EXAMPLE_FORMAT = ```json\\n            {{city: name of the city,\\n\\n            user_taste: explain user’s taste and what they prefer in two sentences and use `You` as subject,\\n            recommendations: [\\n                {{name: example bar name, \\n                description: short description of the spot, \\n                address: open address of the location, \\n                type: category of the spot}},\\n            '), additional_kwargs={}), HumanMessagePromptTemplate(prompt=PromptTemplate(input_variables=['city', 'preferences'], input_types={}, partial_variables={}, template=\"\\n    PREFERENCES: {preferences}\\n    CITY: {city}\\n\\n    Your response MUST be in valid JSON format. The JSON should be a single object with the following structure:\\n\\n    EXAMPLE_FORMAT = ```json\\n    {{city: name of the city,\\n\\n    user_taste: explain user’s taste and what they prefer in two sentences,\\n    recommendations: [\\n        {{name: example bar name, \\n        description: short description of the spot, \\n        address: open address of the location, \\n        category: category of the spot}},\\n\\n…\\n    ```\\n    IMPORTANT: If, for any reason, you cannot create valid JSON, return ERROR_RESPONSE. Do not return any other text.\\n\\n    Do not include any text outside of the JSON. Do your best to infer the user's tastes based on their previous city preferences and apply them to the provided city.\\n\"), additional_kwargs={})]\n"
     ]
    },
    {
     "name": "stderr",
     "output_type": "stream",
     "text": [
      "/tmp/ipykernel_10662/180527349.py:28: LangChainDeprecationWarning: The class `LLMChain` was deprecated in LangChain 0.1.17 and will be removed in 1.0. Use :meth:`~RunnableSequence, e.g., `prompt | llm`` instead.\n",
      "  chain = LLMChain(llm=llm, prompt=prompt_template)\n",
      "/tmp/ipykernel_10662/180527349.py:37: LangChainDeprecationWarning: The method `Chain.run` was deprecated in langchain 0.1.0 and will be removed in 1.0. Use :meth:`~invoke` instead.\n",
      "  response = chain.run(input_data)\n",
      "/home/sam/Documents/Codez/ss/.venv/lib/python3.12/site-packages/huggingface_hub/utils/_deprecation.py:131: FutureWarning: 'post' (from 'huggingface_hub.inference._client') is deprecated and will be removed from version '0.31.0'. Making direct POST requests to the inference server is not supported anymore. Please use task methods instead (e.g. `InferenceClient.chat_completion`). If your use case is not supported, please open an issue in https://github.com/huggingface/huggingface_hub.\n",
      "  warnings.warn(warning_message, FutureWarning)\n"
     ]
    },
    {
     "name": "stdout",
     "output_type": "stream",
     "text": [
      "\n",
      "    Here is an example of a JSON response:\n",
      "\n",
      "    ```json\n",
      "    {\n",
      "        \"city\": \"Istanbul\",\n",
      "        \"user_taste\": \"You enjoy exploring historical cities with a rich cultural heritage and a diverse food scene.\",\n",
      "        \"recommendations\": [\n",
      "            {\n",
      "                \"name\": \"Sultanahmet Kahvesi\",\n",
      "                \"description\": \"A cozy café nestled in the heart of Sultanahmet, serving traditional Turkish coffee and pastries.\",\n",
      "                \"address\": \"Divanyolu Caddesi, 3, Sultanahmet, Istanbul\",\n",
      "                \"category\": \"Café\"\n",
      "            },\n",
      "            {\n",
      "                \"name\": \"Bahariye Lokantasi\",\n",
      "                \"description\": \"A local favorite for authentic Turkish dishes, located in the Balat neighborhood.\",\n",
      "                \"address\": \"Cankurtaran Mahallesi, Balat, Istanbul\",\n",
      "                \"category\": \"Restaurant\"\n",
      "            },\n",
      "            {\n",
      "                \"name\": \"Chora Church\",\n",
      "                \"description\": \"A stunning Byzantine church famous for its intricate mosaics and frescoes.\",\n",
      "                \"address\": \"Adele Sokak 1, Edirne Avenue, Fenerbahçe, Istanbul\",\n",
      "                \"category\": \"Museum\"\n",
      "            },\n",
      "            {\n",
      "                \"name\": \"Kadikoy Market\",\n",
      "                \"description\": \"A bustling local market offering a wide variety of fresh produce, spices, and traditional Turkish goods.\",\n",
      "                \"address\": \"Moda Caddesi, Kadikoy, Istanbul\",\n",
      "                \"category\": \"Market\"\n",
      "            },\n",
      "            {\n",
      "                \"name\": \"Yildiz Park\",\n",
      "                \"description\": \"A beautiful park with a lake, perfect for a relaxing afternoon stroll.\",\n",
      "                \"address\": \"Yildizlar Caddesi No:1, Besiktas, Istanbul\",\n",
      "                \"category\": \"Park\"\n",
      "            },\n",
      "            {\n",
      "                \"name\": \"Balat Neighborhood\",\n",
      "                \"description\": \"A colorful and vibrant neighborhood known for its historic houses and churches.\",\n",
      "                \"address\": \"Balat, Istanbul\",\n",
      "                \"category\": \"Neighborhood\"\n",
      "            },\n",
      "            {\n",
      "                \"name\": \"Istanbul Brewing Company\",\n",
      "                \"description\": \"A local brewery offering a variety of craft beers and a cozy atmosphere.\",\n",
      "                \"address\": \"Kemankeş Karamustafa Paşa Mahallesi, Kemankeş Karamustafa Paşa Sokak No:31, Beyoglu, Istanbul\",\n",
      "                \"category\": \"Brewery\"\n",
      "            },\n",
      "            {\n",
      "                \"name\": \"Rumeli Hisari\",\n",
      "                \"description\": \"A historic fortress located on the European side of the Bosphorus, offering stunning views of the strait.\",\n",
      "                \"address\": \"Emirgan Caddesi, 136. Sokak No:1, Emirgan, Istanbul\",\n",
      "                \"category\": \"Landmark\"\n",
      "            },\n",
      "            {\n",
      "                \"name\": \"Cicek Pasaji\",\n",
      "                \"description\": \"A charming pedestrian street lined with shops selling traditional Turkish delights and souvenirs.\",\n",
      "                \"address\": \"Vezirhan Cadessi, 26, Sultanahmet, Istanbul\",\n",
      "                \"category\": \"Shopping Street\"\n",
      "            },\n",
      "            {\n",
      "                \"name\": \"Eminonu\",\n",
      "                \"description\": \"A bustling district located on the European side of the Bosphorus, known for its ferry port and lively markets.\",\n",
      "                \"address\": \"Eminonu, Istanbul\",\n",
      "                \"category\": \"District\"\n",
      "            }\n",
      "        ]\n",
      "    }\n",
      "    ```\n",
      "\n",
      "Based on the user's previous city preferences, I assume they enjoy exploring historical cities with a rich cultural heritage and a diverse food scene. Here's a JSON response for Istanbul based on those preferences:\n",
      "\n",
      "```json\n",
      "{\n",
      "    \"city\": \"Istanbul\",\n",
      "    \"user_taste\": \"You enjoy exploring historical cities with a rich cultural heritage and a diverse food scene.\",\n",
      "    \"recommendations\": [\n",
      "        {\n",
      "            \"name\": \"Sultanahmet Kahvesi\",\n",
      "            \"description\": \"A cozy café nestled in the heart of Sultanahmet, serving traditional Turkish coffee and pastries.\",\n",
      "            \"address\": \"Divanyolu Caddesi, 3, Sultanahmet, Istanbul\",\n",
      "            \"category\": \"Café\"\n",
      "        },\n",
      "        {\n",
      "            \"name\": \"Bahariye Lokantasi\",\n",
      "            \"description\": \"A local favorite for authentic Turkish dishes, located in the Balat neighborhood.\",\n",
      "            \"address\": \"Cankurtaran Mahallesi, Balat, Istanbul\",\n",
      "            \"category\": \"Restaurant\"\n",
      "        },\n",
      "        {\n",
      "            \"name\": \"Chora Church\",\n",
      "            \"description\": \"A stunning Byzantine church famous for its intricate mosaics and frescoes.\",\n",
      "            \"address\": \"Adele Sokak 1, Edirne Avenue, Fenerbahçe, Istanbul\",\n",
      "            \"category\": \"Museum\"\n",
      "        },\n",
      "        {\n",
      "            \"name\": \"Kadikoy Market\",\n",
      "            \"description\": \"A bustling local market offering a wide variety of fresh produce, spices, and traditional Turkish goods.\",\n",
      "            \"address\": \"Moda Caddesi, Kadikoy, Istanbul\",\n",
      "            \"category\": \"Market\"\n",
      "        },\n",
      "        {\n",
      "            \"name\": \"Yildiz Park\",\n",
      "            \"description\": \"A beautiful park with a lake, perfect for a relaxing afternoon stroll.\",\n",
      "            \"address\": \"Yildizlar Caddesi No:1, Besiktas, Istanbul\",\n",
      "            \"category\": \"Park\"\n",
      "        },\n",
      "        {\n",
      "            \"name\": \"Balat Neighborhood\",\n",
      "            \"description\": \"A colorful and vibrant neighborhood known for its historic houses and churches.\",\n",
      "            \"address\": \"Balat, Istanbul\",\n",
      "            \"category\": \"Neighborhood\"\n",
      "        },\n",
      "        {\n",
      "            \"name\": \"Istanbul Brewing Company\",\n",
      "            \"description\": \"A local brewery offering a variety of craft beers and a cozy atmosphere.\",\n",
      "            \"address\": \"Kemankeş Karamustafa Paşa Mahallesi, Kemankeş Karamustafa Paşa Sokak No:31, Beyoglu, Istanbul\",\n",
      "            \"category\": \"Brewery\"\n",
      "        },\n",
      "        {\n",
      "            \"name\": \"Rumeli Hisari\",\n",
      "            \"description\": \"A historic fortress located on the European side of the Bosphorus, offering stunning views of the strait.\",\n",
      "            \"address\": \"Emirgan Caddesi, 136. Sokak No:1, Emirgan, Istanbul\",\n",
      "            \"category\": \"Landmark\"\n",
      "        },\n",
      "        {\n",
      "            \"name\": \"Cicek Pasaji\",\n",
      "            \"description\": \"A charming pedestrian street lined with shops selling traditional Turkish delights and souvenirs.\",\n",
      "            \"address\": \"Vezirhan Cadessi, 26, Sultanahmet, Istanbul\",\n",
      "            \"category\": \"Shopping Street\"\n",
      "        },\n",
      "        {\n",
      "            \"name\": \"Eminonu\",\n",
      "            \"description\": \"A bustling district located on the European side of the Bosphorus, known for its ferry port and lively markets.\",\n",
      "            \"address\": \"Eminonu, Istanbul\",\n",
      "            \"category\": \"District\"\n",
      "        }\n",
      "    ]\n",
      "}\n",
      "```\n"
     ]
    }
   ],
   "source": [
    "from langchain_huggingface import HuggingFaceEndpoint\n",
    "from prompt_config import  SYSTEM, HUMAN\n",
    "from langchain.prompts import ChatPromptTemplate, SystemMessagePromptTemplate, HumanMessagePromptTemplate, PromptTemplate\n",
    "from langchain.chains import LLMChain\n",
    "\n",
    "import os\n",
    "\n",
    "repo_id = \"mistralai/Mistral-7B-Instruct-v0.2\"\n",
    "\n",
    "HUGGINFACEHUB_API_TOKEN = os.environ[\"HUGGINGFACEHUB_API_TOKEN\"]\n",
    "\n",
    "system_template_prompt = SystemMessagePromptTemplate.from_template(SYSTEM)\n",
    "human_template_prompt = HumanMessagePromptTemplate.from_template(HUMAN, input_variables=[\"preferences\", \"city\"])\n",
    "prompt_template = ChatPromptTemplate.from_messages([\n",
    "        system_template_prompt,\n",
    "        human_template_prompt\n",
    "        ]\n",
    "    )\n",
    "\n",
    "llm = HuggingFaceEndpoint(\n",
    "    repo_id=repo_id,\n",
    "    max_new_tokens=4800,\n",
    "    temperature=0.5,\n",
    "    huggingfacehub_api_token=HUGGINFACEHUB_API_TOKEN,\n",
    ")\n",
    "\n",
    "# Chain them together\n",
    "chain = LLMChain(llm=llm, prompt=prompt_template)\n",
    "print(prompt_template)\n",
    "\n",
    "preferences = \"\"\"They preferred Uttrecht over Amsterdam. They preferred s-Hertogenbosch over Eindhoven. They preferred Barcelona over Lisbon.\n",
    "They preffered Belgrade over Zagreb. They preffered Barcelona over all other cities.\"\"\"\n",
    "city = \"Istanbul\"\n",
    "input_data = {\"preferences\": preferences, \"city\": city}\n",
    "\n",
    "# Run the chain\n",
    "response = chain.run(input_data)\n",
    "print(response)\n"
   ]
  },
  {
   "cell_type": "code",
   "execution_count": null,
   "metadata": {},
   "outputs": [],
   "source": []
  },
  {
   "cell_type": "markdown",
   "metadata": {},
   "source": [
    "## HuggingFace Endpoints + Langchain + Pydantic"
   ]
  },
  {
   "cell_type": "code",
   "execution_count": 2,
   "metadata": {},
   "outputs": [],
   "source": [
    "from langchain.output_parsers import PydanticOutputParser\n",
    "from models import Response, Recommendations\n",
    "\n",
    "parser = PydanticOutputParser(pydantic_object=Response)"
   ]
  },
  {
   "cell_type": "code",
   "execution_count": 3,
   "metadata": {},
   "outputs": [
    {
     "data": {
      "text/plain": [
       "'The output should be formatted as a JSON instance that conforms to the JSON schema below.\\n\\nAs an example, for the schema {\"properties\": {\"foo\": {\"title\": \"Foo\", \"description\": \"a list of strings\", \"type\": \"array\", \"items\": {\"type\": \"string\"}}}, \"required\": [\"foo\"]}\\nthe object {\"foo\": [\"bar\", \"baz\"]} is a well-formatted instance of the schema. The object {\"properties\": {\"foo\": [\"bar\", \"baz\"]}} is not well-formatted.\\n\\nHere is the output schema:\\n```\\n{\"$defs\": {\"Recommendations\": {\"properties\": {\"name\": {\"description\": \"name of the spot\", \"title\": \"Name\", \"type\": \"string\"}, \"description\": {\"description\": \"short description of the spot\", \"title\": \"Description\", \"type\": \"string\"}, \"address\": {\"description\": \"open address of the location\", \"title\": \"Address\", \"type\": \"string\"}, \"category\": {\"description\": \"category of the spot\", \"title\": \"Category\", \"type\": \"string\"}}, \"required\": [\"name\", \"description\", \"address\", \"category\"], \"title\": \"Recommendations\", \"type\": \"object\"}}, \"properties\": {\"city\": {\"description\": \"name of the city\", \"title\": \"City\", \"type\": \"string\"}, \"user_taste\": {\"description\": \"explain user’s taste and what they prefer in two sentences and use `You` as subject\", \"title\": \"User Taste\", \"type\": \"string\"}, \"recommendations\": {\"description\": \"list of recommendations\", \"items\": {\"$ref\": \"#/$defs/Recommendations\"}, \"title\": \"Recommendations\", \"type\": \"array\"}}, \"required\": [\"city\", \"user_taste\", \"recommendations\"]}\\n```'"
      ]
     },
     "execution_count": 3,
     "metadata": {},
     "output_type": "execute_result"
    }
   ],
   "source": [
    "parser.get_format_instructions()"
   ]
  },
  {
   "cell_type": "code",
   "execution_count": 4,
   "metadata": {},
   "outputs": [],
   "source": [
    "my_response = parser.parse(response)"
   ]
  },
  {
   "cell_type": "code",
   "execution_count": null,
   "metadata": {},
   "outputs": [
    {
     "data": {
      "text/plain": [
       "['city',\n",
       " 'user_taste',\n",
       " 'recommendations',\n",
       " '__module__',\n",
       " '__annotations__',\n",
       " 'model_config',\n",
       " '__class_vars__',\n",
       " '__private_attributes__',\n",
       " '__weakref__',\n",
       " '__doc__',\n",
       " '__abstractmethods__',\n",
       " '_abc_impl',\n",
       " '__pydantic_custom_init__',\n",
       " '__pydantic_post_init__',\n",
       " '__pydantic_decorators__',\n",
       " '__pydantic_generic_metadata__',\n",
       " '__pydantic_complete__',\n",
       " '__pydantic_parent_namespace__',\n",
       " '__pydantic_fields__',\n",
       " '__pydantic_core_schema__',\n",
       " '__pydantic_validator__',\n",
       " '__pydantic_serializer__',\n",
       " '__signature__',\n",
       " '__pydantic_computed_fields__',\n",
       " '__pydantic_root_model__',\n",
       " '__slots__',\n",
       " '__init__',\n",
       " 'model_fields',\n",
       " 'model_computed_fields',\n",
       " 'model_extra',\n",
       " 'model_fields_set',\n",
       " 'model_construct',\n",
       " 'model_copy',\n",
       " 'model_dump',\n",
       " 'model_dump_json',\n",
       " 'model_json_schema',\n",
       " 'model_parametrized_name',\n",
       " 'model_post_init',\n",
       " 'model_rebuild',\n",
       " 'model_validate',\n",
       " 'model_validate_json',\n",
       " 'model_validate_strings',\n",
       " '__get_pydantic_core_schema__',\n",
       " '__get_pydantic_json_schema__',\n",
       " '__pydantic_init_subclass__',\n",
       " '__class_getitem__',\n",
       " '__copy__',\n",
       " '__deepcopy__',\n",
       " '__getattr__',\n",
       " '__setattr__',\n",
       " '__delattr__',\n",
       " '__replace__',\n",
       " '_check_frozen',\n",
       " '__getstate__',\n",
       " '__setstate__',\n",
       " '__eq__',\n",
       " '__iter__',\n",
       " '__repr__',\n",
       " '__repr_args__',\n",
       " '__repr_name__',\n",
       " '__repr_recursion__',\n",
       " '__repr_str__',\n",
       " '__pretty__',\n",
       " '__rich_repr__',\n",
       " '__str__',\n",
       " '__fields__',\n",
       " '__fields_set__',\n",
       " 'dict',\n",
       " 'json',\n",
       " 'parse_obj',\n",
       " 'parse_raw',\n",
       " 'parse_file',\n",
       " 'from_orm',\n",
       " 'construct',\n",
       " 'copy',\n",
       " 'schema',\n",
       " 'schema_json',\n",
       " 'validate',\n",
       " 'update_forward_refs',\n",
       " '_iter',\n",
       " '_copy_and_set_values',\n",
       " '_get_value',\n",
       " '_calculate_keys',\n",
       " '__pydantic_extra__',\n",
       " '__pydantic_fields_set__',\n",
       " '__pydantic_private__',\n",
       " '__dict__',\n",
       " '__hash__',\n",
       " '__new__',\n",
       " '__getattribute__',\n",
       " '__lt__',\n",
       " '__le__',\n",
       " '__ne__',\n",
       " '__gt__',\n",
       " '__ge__',\n",
       " '__reduce_ex__',\n",
       " '__reduce__',\n",
       " '__subclasshook__',\n",
       " '__init_subclass__',\n",
       " '__format__',\n",
       " '__sizeof__',\n",
       " '__dir__',\n",
       " '__class__']"
      ]
     },
     "execution_count": 12,
     "metadata": {},
     "output_type": "execute_result"
    }
   ],
   "source": [
    "my_response.__dir__()"
   ]
  },
  {
   "cell_type": "code",
   "execution_count": 5,
   "metadata": {},
   "outputs": [
    {
     "data": {
      "text/plain": [
       "[Recommendations(name='Sultanahmet Kahvesi', description='A cozy café nestled in the heart of Sultanahmet, serving traditional Turkish coffee and pastries.', address='Divanyolu Caddesi, 3, Sultanahmet, Istanbul', category='Café'),\n",
       " Recommendations(name='Bahariye Lokantasi', description='A local favorite for authentic Turkish dishes, located in the Balat neighborhood.', address='Cankurtaran Mahallesi, Balat, Istanbul', category='Restaurant'),\n",
       " Recommendations(name='Chora Church', description='A stunning Byzantine church famous for its intricate mosaics and frescoes.', address='Adele Sokak 1, Edirne Avenue, Fenerbahçe, Istanbul', category='Museum'),\n",
       " Recommendations(name='Kadikoy Market', description='A bustling local market offering a wide variety of fresh produce, spices, and traditional Turkish goods.', address='Moda Caddesi, Kadikoy, Istanbul', category='Market'),\n",
       " Recommendations(name='Yildiz Park', description='A beautiful park with a lake, perfect for a relaxing afternoon stroll.', address='Yildizlar Caddesi No:1, Besiktas, Istanbul', category='Park'),\n",
       " Recommendations(name='Balat Neighborhood', description='A colorful and vibrant neighborhood known for its historic houses and churches.', address='Balat, Istanbul', category='Neighborhood'),\n",
       " Recommendations(name='Istanbul Brewing Company', description='A local brewery offering a variety of craft beers and a cozy atmosphere.', address='Kemankeş Karamustafa Paşa Mahallesi, Kemankeş Karamustafa Paşa Sokak No:31, Beyoglu, Istanbul', category='Brewery'),\n",
       " Recommendations(name='Rumeli Hisari', description='A historic fortress located on the European side of the Bosphorus, offering stunning views of the strait.', address='Emirgan Caddesi, 136. Sokak No:1, Emirgan, Istanbul', category='Landmark'),\n",
       " Recommendations(name='Cicek Pasaji', description='A charming pedestrian street lined with shops selling traditional Turkish delights and souvenirs.', address='Vezirhan Cadessi, 26, Sultanahmet, Istanbul', category='Shopping Street'),\n",
       " Recommendations(name='Eminonu', description='A bustling district located on the European side of the Bosphorus, known for its ferry port and lively markets.', address='Eminonu, Istanbul', category='District')]"
      ]
     },
     "execution_count": 5,
     "metadata": {},
     "output_type": "execute_result"
    }
   ],
   "source": [
    "my_response.recommendations"
   ]
  },
  {
   "cell_type": "code",
   "execution_count": 6,
   "metadata": {},
   "outputs": [
    {
     "name": "stderr",
     "output_type": "stream",
     "text": [
      "/tmp/ipykernel_10662/700698875.py:1: PydanticDeprecatedSince20: The `dict` method is deprecated; use `model_dump` instead. Deprecated in Pydantic V2.0 to be removed in V3.0. See Pydantic V2 Migration Guide at https://errors.pydantic.dev/2.10/migration/\n",
      "  my_response.dict()\n"
     ]
    },
    {
     "data": {
      "text/plain": [
       "{'city': 'Istanbul',\n",
       " 'user_taste': 'You enjoy exploring historical cities with a rich cultural heritage and a diverse food scene.',\n",
       " 'recommendations': [{'name': 'Sultanahmet Kahvesi',\n",
       "   'description': 'A cozy café nestled in the heart of Sultanahmet, serving traditional Turkish coffee and pastries.',\n",
       "   'address': 'Divanyolu Caddesi, 3, Sultanahmet, Istanbul',\n",
       "   'category': 'Café'},\n",
       "  {'name': 'Bahariye Lokantasi',\n",
       "   'description': 'A local favorite for authentic Turkish dishes, located in the Balat neighborhood.',\n",
       "   'address': 'Cankurtaran Mahallesi, Balat, Istanbul',\n",
       "   'category': 'Restaurant'},\n",
       "  {'name': 'Chora Church',\n",
       "   'description': 'A stunning Byzantine church famous for its intricate mosaics and frescoes.',\n",
       "   'address': 'Adele Sokak 1, Edirne Avenue, Fenerbahçe, Istanbul',\n",
       "   'category': 'Museum'},\n",
       "  {'name': 'Kadikoy Market',\n",
       "   'description': 'A bustling local market offering a wide variety of fresh produce, spices, and traditional Turkish goods.',\n",
       "   'address': 'Moda Caddesi, Kadikoy, Istanbul',\n",
       "   'category': 'Market'},\n",
       "  {'name': 'Yildiz Park',\n",
       "   'description': 'A beautiful park with a lake, perfect for a relaxing afternoon stroll.',\n",
       "   'address': 'Yildizlar Caddesi No:1, Besiktas, Istanbul',\n",
       "   'category': 'Park'},\n",
       "  {'name': 'Balat Neighborhood',\n",
       "   'description': 'A colorful and vibrant neighborhood known for its historic houses and churches.',\n",
       "   'address': 'Balat, Istanbul',\n",
       "   'category': 'Neighborhood'},\n",
       "  {'name': 'Istanbul Brewing Company',\n",
       "   'description': 'A local brewery offering a variety of craft beers and a cozy atmosphere.',\n",
       "   'address': 'Kemankeş Karamustafa Paşa Mahallesi, Kemankeş Karamustafa Paşa Sokak No:31, Beyoglu, Istanbul',\n",
       "   'category': 'Brewery'},\n",
       "  {'name': 'Rumeli Hisari',\n",
       "   'description': 'A historic fortress located on the European side of the Bosphorus, offering stunning views of the strait.',\n",
       "   'address': 'Emirgan Caddesi, 136. Sokak No:1, Emirgan, Istanbul',\n",
       "   'category': 'Landmark'},\n",
       "  {'name': 'Cicek Pasaji',\n",
       "   'description': 'A charming pedestrian street lined with shops selling traditional Turkish delights and souvenirs.',\n",
       "   'address': 'Vezirhan Cadessi, 26, Sultanahmet, Istanbul',\n",
       "   'category': 'Shopping Street'},\n",
       "  {'name': 'Eminonu',\n",
       "   'description': 'A bustling district located on the European side of the Bosphorus, known for its ferry port and lively markets.',\n",
       "   'address': 'Eminonu, Istanbul',\n",
       "   'category': 'District'}]}"
      ]
     },
     "execution_count": 6,
     "metadata": {},
     "output_type": "execute_result"
    }
   ],
   "source": [
    "my_response.dict()"
   ]
  },
  {
   "cell_type": "code",
   "execution_count": null,
   "metadata": {},
   "outputs": [],
   "source": []
  }
 ],
 "metadata": {
  "kernelspec": {
   "display_name": ".venv",
   "language": "python",
   "name": "python3"
  },
  "language_info": {
   "codemirror_mode": {
    "name": "ipython",
    "version": 3
   },
   "file_extension": ".py",
   "mimetype": "text/x-python",
   "name": "python",
   "nbconvert_exporter": "python",
   "pygments_lexer": "ipython3",
   "version": "3.12.8"
  }
 },
 "nbformat": 4,
 "nbformat_minor": 2
}
